{
 "cells": [
  {
   "cell_type": "markdown",
   "id": "f84c3944",
   "metadata": {},
   "source": [
    "__Q1.__ Why are functions advantageous to have in your programs?"
   ]
  },
  {
   "cell_type": "markdown",
   "id": "033e8977",
   "metadata": {},
   "source": [
    "__Ans 1:__  Functions reduce the need for duplicate code. This makes programs shorter, easier to read, and easier to update."
   ]
  },
  {
   "cell_type": "markdown",
   "id": "70923377",
   "metadata": {},
   "source": [
    "__Q2.__ When does the code in a function run: when it's specified or when it's called?"
   ]
  },
  {
   "cell_type": "markdown",
   "id": "461c7337",
   "metadata": {},
   "source": [
    "__Ans 2:__  The code in a function executes when the function is called, not when the function is defined."
   ]
  },
  {
   "cell_type": "markdown",
   "id": "cb248790",
   "metadata": {},
   "source": [
    "__Q3.__ What statement creates a function?"
   ]
  },
  {
   "cell_type": "markdown",
   "id": "9044c311",
   "metadata": {},
   "source": [
    "__Ans 3:__ The def statement defines (that is, creates) a function."
   ]
  },
  {
   "cell_type": "markdown",
   "id": "2cc77e5c",
   "metadata": {},
   "source": [
    "__Q4.__ What is the difference between a function and a function call?"
   ]
  },
  {
   "cell_type": "markdown",
   "id": "e4accc86",
   "metadata": {},
   "source": [
    "__Ans 4:__  A function consists of the def statement and the code in its def clause.\n",
    "\n",
    "A function call is what moves the program execution into the function, and the function call evaluates to the function’s return value."
   ]
  },
  {
   "cell_type": "markdown",
   "id": "9eb52d43",
   "metadata": {},
   "source": [
    "__Q5.__ How many global scopes are there in a Python program? How many local scopes?"
   ]
  },
  {
   "cell_type": "markdown",
   "id": "7ca155d3",
   "metadata": {},
   "source": [
    "__Ans 5:__ There is one global scope, and a local scope is created whenever a function is called."
   ]
  },
  {
   "cell_type": "markdown",
   "id": "d43cfb4a",
   "metadata": {},
   "source": [
    "__Q6.__ What happens to variables in a local scope when the function call returns?"
   ]
  },
  {
   "cell_type": "markdown",
   "id": "ebd047ff",
   "metadata": {},
   "source": [
    "__Ans 6 :__ When a function returns, the local scope is destroyed, and all the variables in it are forgotten."
   ]
  },
  {
   "cell_type": "markdown",
   "id": "79f1c69f",
   "metadata": {},
   "source": [
    "__Q7.__ What is the concept of a return value? Is it possible to have a return value in an expression?"
   ]
  },
  {
   "cell_type": "markdown",
   "id": "ef62a3a5",
   "metadata": {},
   "source": [
    "__Ans 7:__ A return value is the value that a function call evaluates to. Like any value, a return value can be used as part of an expression."
   ]
  },
  {
   "cell_type": "markdown",
   "id": "4f785555",
   "metadata": {},
   "source": [
    "__Q8.__ If a function does not have a return statement, what is the return value of a call to that function?"
   ]
  },
  {
   "cell_type": "markdown",
   "id": "833dd380",
   "metadata": {},
   "source": [
    "__Ans 8:__ If there is no return statement for a function, its return value is None."
   ]
  },
  {
   "cell_type": "markdown",
   "id": "80dc8849",
   "metadata": {},
   "source": [
    "__Q9.__ How do you make a function variable refer to the global variable?"
   ]
  },
  {
   "cell_type": "markdown",
   "id": "a37cc14b",
   "metadata": {},
   "source": [
    "__Ans 9:__ A global statement will force a variable in a function to refer to the global variable."
   ]
  },
  {
   "cell_type": "markdown",
   "id": "9d4bf22d",
   "metadata": {},
   "source": [
    "__Q10.__ What is the data type of None?"
   ]
  },
  {
   "cell_type": "markdown",
   "id": "12e2f73f",
   "metadata": {},
   "source": [
    "__Ans 10:__ The data type of None is NoneType"
   ]
  },
  {
   "cell_type": "markdown",
   "id": "25d99995",
   "metadata": {},
   "source": [
    "__Q11.__ What does the sentence import areallyourpetsnamederic do?"
   ]
  },
  {
   "cell_type": "markdown",
   "id": "a0c702c0",
   "metadata": {},
   "source": [
    "__Ans 11:__ That import statement imports a module named areallyourpetsnamederic."
   ]
  },
  {
   "cell_type": "markdown",
   "id": "e76631c3",
   "metadata": {},
   "source": [
    "__Q12.__ If you had a bacon() feature in a spam module, what would you call it after importing spam?"
   ]
  },
  {
   "cell_type": "markdown",
   "id": "17414adb",
   "metadata": {},
   "source": [
    "__Ans 12:__ This function can be called with spam.bacon()."
   ]
  },
  {
   "cell_type": "markdown",
   "id": "8853eb35",
   "metadata": {},
   "source": [
    "__Q13.__ What can you do to save a programme from crashing if it encounters an error?"
   ]
  },
  {
   "cell_type": "markdown",
   "id": "aa16b5ab",
   "metadata": {},
   "source": [
    "__Ans 13:__ Place the line of code that might cause an error in a try clause."
   ]
  },
  {
   "cell_type": "markdown",
   "id": "47a5fc59",
   "metadata": {},
   "source": [
    "__Q14.__ What is the purpose of the try clause? What is the purpose of the except clause?"
   ]
  },
  {
   "cell_type": "markdown",
   "id": "e253a4a7",
   "metadata": {},
   "source": [
    "__Ans 14:__ The code that could potentially cause an error goes in the try clause.\n",
    "\n",
    "The code that executes if an error happens goes in the except clause."
   ]
  }
 ],
 "metadata": {
  "kernelspec": {
   "display_name": "Python 3 (ipykernel)",
   "language": "python",
   "name": "python3"
  },
  "language_info": {
   "codemirror_mode": {
    "name": "ipython",
    "version": 3
   },
   "file_extension": ".py",
   "mimetype": "text/x-python",
   "name": "python",
   "nbconvert_exporter": "python",
   "pygments_lexer": "ipython3",
   "version": "3.9.7"
  }
 },
 "nbformat": 4,
 "nbformat_minor": 5
}
