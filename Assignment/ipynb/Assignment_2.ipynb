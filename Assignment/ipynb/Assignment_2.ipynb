{
 "cells": [
  {
   "cell_type": "markdown",
   "id": "f84c3944",
   "metadata": {},
   "source": [
    "__Q1.__ What are the two values of the Boolean data type? How do you write them?"
   ]
  },
  {
   "cell_type": "markdown",
   "id": "033e8977",
   "metadata": {},
   "source": [
    "__Ans 1:__  The 2 values of the Boolean data type are: \"True\" and \"False\""
   ]
  },
  {
   "cell_type": "markdown",
   "id": "70923377",
   "metadata": {},
   "source": [
    "__Q2.__ What are the three different types of Boolean operators?"
   ]
  },
  {
   "cell_type": "markdown",
   "id": "461c7337",
   "metadata": {},
   "source": [
    "__Ans 2:__  The 3 different types of Boolean operators are: \"and\" , \"or\" and \"not\""
   ]
  },
  {
   "cell_type": "markdown",
   "id": "cb248790",
   "metadata": {},
   "source": [
    "__Q3.__ Make a list of each Boolean operator&#39;s truth tables (i.e. every possible combination of Boolean values for the operator and what it evaluate )."
   ]
  },
  {
   "cell_type": "markdown",
   "id": "9044c311",
   "metadata": {},
   "source": [
    "__Ans 3:__ "
   ]
  },
  {
   "cell_type": "code",
   "execution_count": 28,
   "id": "62f093b9",
   "metadata": {},
   "outputs": [
    {
     "name": "stdout",
     "output_type": "stream",
     "text": [
      "and Operator Truth table:\n",
      "1). True and True is True\n",
      "2). True and False is False\n",
      "3). False and True is False\n",
      "4). False and False is False\n",
      "\n",
      "or Operator Truth table:\n",
      "1). True or True is True\n",
      "2). True or False is True\n",
      "3). False or True is True\n",
      "4). False or False is False\n",
      "\n",
      "not Operator Truth table:\n",
      "1). not True is False\n",
      "2). not False is True\n"
     ]
    }
   ],
   "source": [
    "print ('and Operator Truth table:')\n",
    "\n",
    "booleanA = True\n",
    "booleanB = True\n",
    "\n",
    "for i in range(4):\n",
    "    if(i>1):\n",
    "        booleanA = False\n",
    "    if(i%2==0):\n",
    "        booleanB = True\n",
    "    print (f'{i+1}). {booleanA} and {booleanB} is', booleanA and booleanB)\n",
    "    booleanB = False\n",
    " \n",
    "\n",
    "print ('\\nor Operator Truth table:')\n",
    "\n",
    "booleanA = True\n",
    "booleanB = True\n",
    "\n",
    "for i in range(4):\n",
    "    if(i>1):\n",
    "        booleanA = False\n",
    "    if(i%2==0):\n",
    "        booleanB = True\n",
    "    print (f'{i+1}). {booleanA} or {booleanB} is', booleanA or booleanB)\n",
    "    booleanB = False\n",
    "\n",
    "\n",
    "print ('\\nnot Operator Truth table:')\n",
    "\n",
    "booleanA = True\n",
    "booleanB = False\n",
    "\n",
    "print (f'1). not {booleanA} is', not booleanA)\n",
    "print (f'2). not {booleanB} is', not booleanB)\n",
    "    "
   ]
  },
  {
   "cell_type": "markdown",
   "id": "2cc77e5c",
   "metadata": {},
   "source": [
    "__Q4.__ What are the values of the following expressions?\n",
    "\n",
    "(5 &gt; 4) and (3 == 5)\n",
    "\n",
    "not (5 &gt; 4)\n",
    "\n",
    "(5 &gt; 4) or (3 == 5)\n",
    "\n",
    "not ((5 &gt; 4) or (3 == 5))\n",
    "\n",
    "(True and True) and (True == False)\n",
    "\n",
    "(not False) or (not True)"
   ]
  },
  {
   "cell_type": "markdown",
   "id": "e4accc86",
   "metadata": {},
   "source": [
    "__Ans 4:__  The values of the following expressions are:"
   ]
  },
  {
   "cell_type": "code",
   "execution_count": 11,
   "id": "c1416d56",
   "metadata": {},
   "outputs": [
    {
     "name": "stdout",
     "output_type": "stream",
     "text": [
      "(5 > 4) and (3 == 5) is:  False\n",
      "not (5 > 4) is:  False\n",
      "(5 > 4) or (3 == 5) is:  True\n",
      "not ((5 > 4) or (3 == 5)) is:  False\n",
      "(True and True) and (True == False) is:  False\n",
      "(not False) or (not True) is:  True\n"
     ]
    }
   ],
   "source": [
    "print (\"(5 > 4) and (3 == 5) is: \",(5 > 4) and (3 == 5))\n",
    "\n",
    "print (\"not (5 > 4) is: \", not (5 > 4))\n",
    "\n",
    "print (\"(5 > 4) or (3 == 5) is: \", (5 > 4) or (3 == 5))\n",
    "\n",
    "print (\"not ((5 > 4) or (3 == 5)) is: \", not ((5 > 4) or (3 == 5)))\n",
    "\n",
    "print (\"(True and True) and (True == False) is: \", (True and True) and (True == False))\n",
    "\n",
    "print (\"(not False) or (not True) is: \", (not False) or (not True))"
   ]
  },
  {
   "cell_type": "markdown",
   "id": "9eb52d43",
   "metadata": {},
   "source": [
    "__Q5.__ What are the six comparison operators?"
   ]
  },
  {
   "cell_type": "markdown",
   "id": "7ca155d3",
   "metadata": {},
   "source": [
    "__Ans 5:__  The six comparison operators are:  ==, !=, <, >, <=, and >="
   ]
  },
  {
   "cell_type": "markdown",
   "id": "d43cfb4a",
   "metadata": {},
   "source": [
    "__Q6.__ How do you tell the difference between the equal to and assignment operators?Describe a condition and when you would use one."
   ]
  },
  {
   "cell_type": "markdown",
   "id": "ebd047ff",
   "metadata": {},
   "source": [
    "__Ans 6 :__ == is the equal to operator that compares two values and evaluates to a Boolean, while = is the assignment operator that stores a value in a variable.<br>\n",
    "A condition is an expression used in a flow control statement that evaluates to a Boolean value."
   ]
  },
  {
   "cell_type": "markdown",
   "id": "79f1c69f",
   "metadata": {},
   "source": [
    "__Q7.__ Identify the three blocks in this code:\n",
    "\n",
    "spam = 0\n",
    "\n",
    "if spam == 10:\n",
    "\n",
    "print(&#39;eggs&#39;)\n",
    "\n",
    "if spam &gt; 5:\n",
    "\n",
    "print(&#39;bacon&#39;)\n",
    "\n",
    "else:\n",
    "\n",
    "print(&#39;ham&#39;)\n",
    "\n",
    "print(&#39;spam&#39;)\n",
    "\n",
    "print(&#39;spam&#39;)"
   ]
  },
  {
   "cell_type": "markdown",
   "id": "ef62a3a5",
   "metadata": {},
   "source": [
    "__Ans 7:__ \n",
    "\n",
    "    #Block 1\n",
    "spam = 0\n",
    "\n",
    "\n",
    "    # Block 2\n",
    "if spam == 10:\n",
    "\n",
    "print('eggs')\n",
    "\n",
    "if spam > 5:\n",
    "\n",
    "print('bacon')\n",
    "\n",
    "else:\n",
    "\n",
    "print('ham')\n",
    "\n",
    "\n",
    "    # Block 3\n",
    "print('spam')\n",
    "\n",
    "print('spam')"
   ]
  },
  {
   "cell_type": "markdown",
   "id": "4f785555",
   "metadata": {},
   "source": [
    "__Q8.__ Write code that prints Hello if 1 is stored in spam, prints Howdy if 2 is stored in spam, and prints Greetings! if anything else is stored in spam."
   ]
  },
  {
   "cell_type": "markdown",
   "id": "833dd380",
   "metadata": {},
   "source": [
    "__Ans 8:__ "
   ]
  },
  {
   "cell_type": "code",
   "execution_count": 2,
   "id": "3e025817",
   "metadata": {},
   "outputs": [
    {
     "name": "stdout",
     "output_type": "stream",
     "text": [
      "Hello\n"
     ]
    }
   ],
   "source": [
    "spam = 1\n",
    "if spam == 1:\n",
    "    print('Hello')\n",
    "elif spam == 2:\n",
    "    print('Howdy')\n",
    "else:\n",
    "    print('Greetings!') "
   ]
  },
  {
   "cell_type": "markdown",
   "id": "80dc8849",
   "metadata": {},
   "source": [
    "__Q9.__ If your programme is stuck in an endless loop, what keys you’ll press?"
   ]
  },
  {
   "cell_type": "markdown",
   "id": "a37cc14b",
   "metadata": {},
   "source": [
    "__Ans 9:__ Press CTRL+C to stop a program stuck in an infinite loop."
   ]
  },
  {
   "cell_type": "markdown",
   "id": "9d4bf22d",
   "metadata": {},
   "source": [
    "__Q10.__ How can you tell the difference between break and continue?"
   ]
  },
  {
   "cell_type": "markdown",
   "id": "12e2f73f",
   "metadata": {},
   "source": [
    "__Ans 10:__ The break statement will move the execution outside and just after a loop.<br>\n",
    "The continue statement will move the execution to the start of the loop."
   ]
  },
  {
   "cell_type": "markdown",
   "id": "25d99995",
   "metadata": {},
   "source": [
    "__Q11.__ In a for loop, what is the difference between range(10), range(0, 10), and range(0, 10, 1)?"
   ]
  },
  {
   "cell_type": "markdown",
   "id": "a0c702c0",
   "metadata": {},
   "source": [
    "__Ans 11:__ They all do the same thing. The range(10) call ranges from 0 up to (but not including) 10, range(0, 10) explicitly tells the loop to start at 0, and range(0, 10, 1) explicitly tells the loop to increase the variable by 1 on each iteration."
   ]
  },
  {
   "cell_type": "markdown",
   "id": "e76631c3",
   "metadata": {},
   "source": [
    "__Q12.__ Write a short program that prints the numbers 1 to 10 using a for loop. Then write an equivalent program that prints the numbers 1 to 10 using a while loop."
   ]
  },
  {
   "cell_type": "markdown",
   "id": "17414adb",
   "metadata": {},
   "source": [
    "__Ans 12:__ "
   ]
  },
  {
   "cell_type": "code",
   "execution_count": 4,
   "id": "16716efa",
   "metadata": {},
   "outputs": [
    {
     "name": "stdout",
     "output_type": "stream",
     "text": [
      "1\n",
      "2\n",
      "3\n",
      "4\n",
      "5\n",
      "6\n",
      "7\n",
      "8\n",
      "9\n",
      "10\n"
     ]
    }
   ],
   "source": [
    "for i in range(1, 11):\n",
    "    print(i)"
   ]
  },
  {
   "cell_type": "code",
   "execution_count": 5,
   "id": "2e1fe5a6",
   "metadata": {},
   "outputs": [
    {
     "name": "stdout",
     "output_type": "stream",
     "text": [
      "1\n",
      "2\n",
      "3\n",
      "4\n",
      "5\n",
      "6\n",
      "7\n",
      "8\n",
      "9\n",
      "10\n"
     ]
    }
   ],
   "source": [
    "i = 1\n",
    "while i <= 10:\n",
    "    print(i)\n",
    "    i = i + 1"
   ]
  },
  {
   "cell_type": "markdown",
   "id": "8853eb35",
   "metadata": {},
   "source": [
    "__Q13.__ If you had a function named bacon() inside a module named spam, how would you call it after importing spam?"
   ]
  },
  {
   "cell_type": "markdown",
   "id": "aa16b5ab",
   "metadata": {},
   "source": [
    "__Ans 13:__ This function can be called with spam.bacon()."
   ]
  }
 ],
 "metadata": {
  "kernelspec": {
   "display_name": "Python 3 (ipykernel)",
   "language": "python",
   "name": "python3"
  },
  "language_info": {
   "codemirror_mode": {
    "name": "ipython",
    "version": 3
   },
   "file_extension": ".py",
   "mimetype": "text/x-python",
   "name": "python",
   "nbconvert_exporter": "python",
   "pygments_lexer": "ipython3",
   "version": "3.9.7"
  }
 },
 "nbformat": 4,
 "nbformat_minor": 5
}
