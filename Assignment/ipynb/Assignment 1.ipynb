{
 "cells": [
  {
   "cell_type": "markdown",
   "id": "3ec32885",
   "metadata": {},
   "source": [
    "__Q1.__ In the below elements which of them are values or an expression? eg:- values can be integer or string and expressions will be mathematical operators.<br>\n",
    "\n",
    "*<br>\n",
    "&#39;hello&#39;<br>\n",
    "-87.8<br>\n",
    "-<br>\n",
    "/<br>\n",
    "+<br>\n",
    "6<br>"
   ]
  },
  {
   "cell_type": "markdown",
   "id": "1aa955e5",
   "metadata": {},
   "source": [
    "__Ans 1:__<br>\n",
    "Below are the list of values:<br>\n",
    "&#39;hello&#39;<br>\n",
    "-87.8<br>\n",
    "6<br>\n",
    "\n",
    "Below are the list of Expressions:<br>\n",
    "*<br>\n",
    "-<br>\n",
    "/<br>\n",
    "+<br>\n"
   ]
  },
  {
   "cell_type": "markdown",
   "id": "60af06e7",
   "metadata": {},
   "source": [
    "__________"
   ]
  },
  {
   "cell_type": "markdown",
   "id": "e14f7e46",
   "metadata": {},
   "source": [
    "__Q2.__ What is the difference between string and variable?"
   ]
  },
  {
   "cell_type": "markdown",
   "id": "1eedf2ad",
   "metadata": {},
   "source": [
    "__Ans 2:__ A __Variable__ is a container which stores the information and a __String__ is a type of information that you would store in a variable.<br>\n",
    "__EX:__ var = 'string', here _'string'_ is str type of information stored in _var_ variable"
   ]
  },
  {
   "cell_type": "markdown",
   "id": "19f14a6d",
   "metadata": {},
   "source": [
    "____________"
   ]
  },
  {
   "cell_type": "markdown",
   "id": "da994d82",
   "metadata": {},
   "source": [
    "__Q3.__ Describe three different data types."
   ]
  },
  {
   "cell_type": "markdown",
   "id": "213020f2",
   "metadata": {},
   "source": [
    "__Ans 3:__ Find below the three data types :<br>\n",
    "1. __Integer:__ It contains positive or negative whole numbers (without fraction or decimal)<br>\n",
    "    _e.g._ a =1 0\n",
    "2. __String:__  Strings are arrays of bytes representing Unicode characters. A string is a collection of one or more characters put in a single quote, double-quote or triple quote. In python there is no character data type, a character is a string of length one. It is represented by str class<br>\n",
    "    _e.g._ a = 'string'\n",
    "3. __List:__ It is a collection of data/item. It is very flexible as the items in a list do not need to be of the same type<br>\n",
    "    _e.g._ a = [10, 'string', (12, 14.0, 'tuple'), 20.5, ['list'], True]\n"
   ]
  },
  {
   "cell_type": "markdown",
   "id": "26b6a863",
   "metadata": {},
   "source": [
    "__________"
   ]
  },
  {
   "cell_type": "markdown",
   "id": "b737664e",
   "metadata": {},
   "source": [
    "__Q4.__ What is an expression made up of? What do all expressions do?"
   ]
  },
  {
   "cell_type": "markdown",
   "id": "36f1383c",
   "metadata": {},
   "source": [
    "__Ans 4:__ An expression is a combination of __values__, __variables__, __operators__, and __calls to functions__. Expressions need to be evaluated. If you ask Python to ____print____ an expression, the interpreter evaluates the expression and displays the result."
   ]
  },
  {
   "cell_type": "markdown",
   "id": "c28d2259",
   "metadata": {},
   "source": [
    "__________"
   ]
  },
  {
   "cell_type": "markdown",
   "id": "5daa07b9",
   "metadata": {},
   "source": [
    "__Q5.__ This assignment statements, like spam = 10. What is the difference between an expression and a statement?"
   ]
  },
  {
   "cell_type": "markdown",
   "id": "fd95f6c9",
   "metadata": {},
   "source": [
    "__Ans 5:__ A __statement__ is an instruction that the Python interpreter can execute. here, spam = 10, is an assignment statement. Some other kinds of statements are while statements, for statements, if statements, and import statements etc...\n",
    "\n",
    "Whereas, An __expression__ is a combination of __values__, __variables__, __operators__, and __calls to functions__. The evaluation of an expression produces a value, which is why expressions can appear on the right hand side of assignment statements. \n"
   ]
  },
  {
   "cell_type": "markdown",
   "id": "4d10f049",
   "metadata": {},
   "source": [
    "__________"
   ]
  },
  {
   "cell_type": "markdown",
   "id": "412411a7",
   "metadata": {},
   "source": [
    "__Q6.__ After running the following code, what does the variable bacon contain?\n",
    "\n",
    "bacon = 22\n",
    "\n",
    "bacon + 1"
   ]
  },
  {
   "cell_type": "markdown",
   "id": "2a8ebfc5",
   "metadata": {},
   "source": [
    "__Ans 6:__"
   ]
  },
  {
   "cell_type": "code",
   "execution_count": 11,
   "id": "a9da1f13",
   "metadata": {},
   "outputs": [
    {
     "name": "stdout",
     "output_type": "stream",
     "text": [
      "The Variable bacon contains is: 22\n"
     ]
    }
   ],
   "source": [
    "bacon = 22\n",
    "\n",
    "bacon + 1\n",
    "\n",
    "print('The Variable bacon contains is:', bacon)"
   ]
  },
  {
   "cell_type": "markdown",
   "id": "8d3ed26b",
   "metadata": {},
   "source": [
    "__________"
   ]
  },
  {
   "cell_type": "markdown",
   "id": "2c0b44fb",
   "metadata": {},
   "source": [
    "__Q7.__ What should the values of the following two terms be?<br>\n",
    "&#39;spam&#39; + &#39;spamspam&#39;<br>\n",
    "&#39;spam&#39; * 3"
   ]
  },
  {
   "cell_type": "markdown",
   "id": "24415e60",
   "metadata": {},
   "source": [
    "__Ans 7:__"
   ]
  },
  {
   "cell_type": "code",
   "execution_count": 27,
   "id": "eccc5eeb",
   "metadata": {},
   "outputs": [
    {
     "name": "stdout",
     "output_type": "stream",
     "text": [
      "The value of 'spam' + 'spamspam' is :  spamspamspam\n",
      "The value of 'spam' * 3 is :  spamspamspam\n"
     ]
    }
   ],
   "source": [
    "print(\"The value of 'spam' + 'spamspam' is : \",'spam' + 'spamspam')\n",
    "print(\"The value of 'spam' * 3 is : \",'spam' * 3)"
   ]
  },
  {
   "cell_type": "markdown",
   "id": "a9250398",
   "metadata": {},
   "source": [
    "__________"
   ]
  },
  {
   "cell_type": "markdown",
   "id": "2d015f98",
   "metadata": {},
   "source": [
    "__Q8.__ Why is eggs a valid variable name while 100 is invalid?"
   ]
  },
  {
   "cell_type": "markdown",
   "id": "167feb43",
   "metadata": {},
   "source": [
    "__Ans 8:__ <br>\n",
    "Rules for creating variables in Python:\n",
    "    \n",
    "- A variable name must start with a letter or the underscore character.\n",
    "- A variable name cannot start with a number.\n",
    "- A variable name can only contain alpha-numeric characters and underscores (A-z, 0-9, and _ ).\n",
    "- Variable names are case-sensitive (name, Name and NAME are three different variables).\n",
    "- The reserved words(keywords) cannot be used naming the variable.\n",
    "\n",
    "As eggs start with a letter, hence its a valid variable nanme. Whereas 100 starts with number, hence its an invalid variable name."
   ]
  },
  {
   "cell_type": "markdown",
   "id": "2405086b",
   "metadata": {},
   "source": [
    "__________"
   ]
  },
  {
   "cell_type": "markdown",
   "id": "6e5c3aff",
   "metadata": {},
   "source": [
    "__Q9.__ What three functions can be used to get the integer, floating-point number, or string\n",
    "version of a value?"
   ]
  },
  {
   "cell_type": "markdown",
   "id": "14a4fd68",
   "metadata": {},
   "source": [
    "__Ans 9:__ The int(), float(), and str() functions will evaluate to the integer, floating-point number, and string versions of the value passed to them"
   ]
  },
  {
   "cell_type": "markdown",
   "id": "4a91aa27",
   "metadata": {},
   "source": [
    "__________"
   ]
  },
  {
   "cell_type": "markdown",
   "id": "1a663534",
   "metadata": {},
   "source": [
    "__Q10.__ Why does this expression cause an error? How can you fix it?<br>\n",
    "&#39;I have eaten &#39; + 99 + &#39; burritos.&#39;"
   ]
  },
  {
   "cell_type": "markdown",
   "id": "4ac763d4",
   "metadata": {},
   "source": [
    "__Ans 10:__ The expression causes an error because 99 is an integer, and only strings can be concatenated to other strings with the + operator.\n",
    "\n",
    "The correct way is 'I have eaten ' + str(99) + ' burritos.' or 'I have eaten ' + '99' + ' burritos.'"
   ]
  },
  {
   "cell_type": "markdown",
   "id": "4aeb6560",
   "metadata": {},
   "source": [
    "__________"
   ]
  }
 ],
 "metadata": {
  "kernelspec": {
   "display_name": "Python 3 (ipykernel)",
   "language": "python",
   "name": "python3"
  },
  "language_info": {
   "codemirror_mode": {
    "name": "ipython",
    "version": 3
   },
   "file_extension": ".py",
   "mimetype": "text/x-python",
   "name": "python",
   "nbconvert_exporter": "python",
   "pygments_lexer": "ipython3",
   "version": "3.9.7"
  }
 },
 "nbformat": 4,
 "nbformat_minor": 5
}
