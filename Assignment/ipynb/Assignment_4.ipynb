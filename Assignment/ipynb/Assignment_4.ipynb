{
 "cells": [
  {
   "cell_type": "markdown",
   "id": "f84c3944",
   "metadata": {},
   "source": [
    "__Q1.__ What exactly is []?"
   ]
  },
  {
   "cell_type": "markdown",
   "id": "033e8977",
   "metadata": {},
   "source": [
    "__Ans 1:__ The empty list value, which is a list value that contains no items. This is similar to how '' is the empty string value."
   ]
  },
  {
   "cell_type": "markdown",
   "id": "70923377",
   "metadata": {},
   "source": [
    "__Q2.__ In a list of values stored in a variable called spam, how would you assign the value 'hello' as the\n",
    "third value? (Assume [2, 4, 6, 8, 10] are in spam.) \n",
    "\n",
    "Let's pretend the spam includes the list ['a', 'b', 'c', 'd'] for the next three queries."
   ]
  },
  {
   "cell_type": "markdown",
   "id": "461c7337",
   "metadata": {},
   "source": [
    "__Ans 2:__  spam[2] = 'hello'"
   ]
  },
  {
   "cell_type": "markdown",
   "id": "cb248790",
   "metadata": {},
   "source": [
    "__Q3.__ What is the value of spam[int(int('3' * 2) / 11)]?"
   ]
  },
  {
   "cell_type": "markdown",
   "id": "9044c311",
   "metadata": {},
   "source": [
    "__Ans 3:__ 'd'.\n",
    "\n",
    "spam[int(int('3'*2)/11)] = spam[int(int('33')/11)] = spam[int(33/11)] = spam[int(3)] = spam[3] = d"
   ]
  },
  {
   "cell_type": "markdown",
   "id": "2cc77e5c",
   "metadata": {},
   "source": [
    "__Q4.__ What is the value of spam[-1]?"
   ]
  },
  {
   "cell_type": "markdown",
   "id": "e4accc86",
   "metadata": {},
   "source": [
    "__Ans 4:__  'd'."
   ]
  },
  {
   "cell_type": "markdown",
   "id": "9eb52d43",
   "metadata": {},
   "source": [
    "__Q5.__ What is the value of spam[:2]?\n",
    "\n",
    "Let's pretend bacon has the list [3.14, 'cat,' 11, 'cat,' True] for the next three questions."
   ]
  },
  {
   "cell_type": "markdown",
   "id": "7ca155d3",
   "metadata": {},
   "source": [
    "__Ans 5:__ ['a','b']"
   ]
  },
  {
   "cell_type": "markdown",
   "id": "d43cfb4a",
   "metadata": {},
   "source": [
    "__Q6.__ What is the value of bacon.index('cat')?"
   ]
  },
  {
   "cell_type": "markdown",
   "id": "ebd047ff",
   "metadata": {},
   "source": [
    "__Ans 6 :__ 1"
   ]
  },
  {
   "cell_type": "markdown",
   "id": "79f1c69f",
   "metadata": {},
   "source": [
    "__Q7.__ How does bacon.append(99) change the look of the list value in bacon?"
   ]
  },
  {
   "cell_type": "markdown",
   "id": "ef62a3a5",
   "metadata": {},
   "source": [
    "__Ans 7:__ [3.14, 'cat', 11, 'cat', True, 99] "
   ]
  },
  {
   "cell_type": "markdown",
   "id": "4f785555",
   "metadata": {},
   "source": [
    "__Q8.__ How does bacon.remove('cat') change the look of the list in bacon?"
   ]
  },
  {
   "cell_type": "markdown",
   "id": "833dd380",
   "metadata": {},
   "source": [
    "__Ans 8:__ [3.14, 11, 'cat', True] "
   ]
  },
  {
   "cell_type": "markdown",
   "id": "80dc8849",
   "metadata": {},
   "source": [
    "__Q9.__ What are the list concatenation and list replication operators?"
   ]
  },
  {
   "cell_type": "markdown",
   "id": "a37cc14b",
   "metadata": {},
   "source": [
    "__Ans 9:__ The operator for list concatenation is +, while the operator for replication is *."
   ]
  },
  {
   "cell_type": "markdown",
   "id": "9d4bf22d",
   "metadata": {},
   "source": [
    "__Q10.__ What is difference between the list methods append() and insert()?"
   ]
  },
  {
   "cell_type": "markdown",
   "id": "12e2f73f",
   "metadata": {},
   "source": [
    "__Ans 10:__ While append() will add values only to the end of a list, insert() can add them anywhere in the list."
   ]
  },
  {
   "cell_type": "markdown",
   "id": "25d99995",
   "metadata": {},
   "source": [
    "__Q11.__ What are the two methods for removing items from a list?"
   ]
  },
  {
   "cell_type": "markdown",
   "id": "a0c702c0",
   "metadata": {},
   "source": [
    "__Ans 11:__ The del statement and the remove() list method are two ways to remove values from a list."
   ]
  },
  {
   "cell_type": "markdown",
   "id": "e76631c3",
   "metadata": {},
   "source": [
    "__Q12.__ Describe how list values and string values are identical."
   ]
  },
  {
   "cell_type": "markdown",
   "id": "17414adb",
   "metadata": {},
   "source": [
    "__Ans 12:__ Both lists and strings can be passed to len(), have indexes and slices, be used in for loops, be concatenated or replicated, and be used with the in and not in operators."
   ]
  },
  {
   "cell_type": "markdown",
   "id": "8853eb35",
   "metadata": {},
   "source": [
    "__Q13.__ What's the difference between tuples and lists?"
   ]
  },
  {
   "cell_type": "markdown",
   "id": "aa16b5ab",
   "metadata": {},
   "source": [
    "__Ans 13:__ Lists are mutable; they can have values added, removed, or changed. Tuples are immutable; they cannot be changed at all. Also, tuples are written using parentheses, ( tuple ), while lists use the square brackets, [ list ]"
   ]
  },
  {
   "cell_type": "markdown",
   "id": "47a5fc59",
   "metadata": {},
   "source": [
    "__Q14.__ How do you type a tuple value that only contains the integer 42?"
   ]
  },
  {
   "cell_type": "markdown",
   "id": "e253a4a7",
   "metadata": {},
   "source": [
    "__Ans 14:__ tuple_value = (42,)"
   ]
  },
  {
   "cell_type": "markdown",
   "id": "bd5fa7fa",
   "metadata": {},
   "source": [
    "__Q15.__ How do you get a list value's tuple form? How do you get a tuple value's list form?"
   ]
  },
  {
   "cell_type": "markdown",
   "id": "0fd7ee43",
   "metadata": {},
   "source": [
    "__Ans 15:__ list value's in tuple form -> tuple(list_values) <br>\n",
    "tuple values' in list form -> list(tuple_values)"
   ]
  },
  {
   "cell_type": "markdown",
   "id": "b062eaed",
   "metadata": {},
   "source": [
    "__Q16.__ Variables that &quot;contain&quot; list values are not necessarily lists themselves. Instead, what do they\n",
    "contain?"
   ]
  },
  {
   "cell_type": "markdown",
   "id": "0728096e",
   "metadata": {},
   "source": [
    "__Ans 16:__ They contain references to list values."
   ]
  },
  {
   "cell_type": "markdown",
   "id": "b92312d6",
   "metadata": {},
   "source": [
    "__Q17.__ How do you distinguish between copy.copy() and copy.deepcopy()?"
   ]
  },
  {
   "cell_type": "markdown",
   "id": "70c4ce07",
   "metadata": {},
   "source": [
    "__Ans 17:__ The copy.copy() function will do a shallow copy of a list, while the copy.deepcopy() function will do a deep copy of a list. That is, only copy.deepcopy() will duplicate any lists inside the list.\n",
    "\n",
    "A shallow copy constructs a new compound object and then (to the extent possible) inserts references into it to the objects found in the original.<br>\n",
    "A deep copy constructs a new compound object and then, recursively, inserts copies into it of the objects found in the original."
   ]
  }
 ],
 "metadata": {
  "kernelspec": {
   "display_name": "Python 3 (ipykernel)",
   "language": "python",
   "name": "python3"
  },
  "language_info": {
   "codemirror_mode": {
    "name": "ipython",
    "version": 3
   },
   "file_extension": ".py",
   "mimetype": "text/x-python",
   "name": "python",
   "nbconvert_exporter": "python",
   "pygments_lexer": "ipython3",
   "version": "3.9.7"
  }
 },
 "nbformat": 4,
 "nbformat_minor": 5
}
