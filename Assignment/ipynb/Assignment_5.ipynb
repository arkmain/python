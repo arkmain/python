{
 "cells": [
  {
   "cell_type": "markdown",
   "id": "f84c3944",
   "metadata": {},
   "source": [
    "__Q1.__ What does an empty dictionary's code look like?"
   ]
  },
  {
   "cell_type": "markdown",
   "id": "033e8977",
   "metadata": {},
   "source": [
    "__Ans 1:__ {}"
   ]
  },
  {
   "cell_type": "markdown",
   "id": "70923377",
   "metadata": {},
   "source": [
    "__Q2.__ What is the value of a dictionary value with the key 'foo' and the value 42?"
   ]
  },
  {
   "cell_type": "markdown",
   "id": "461c7337",
   "metadata": {},
   "source": [
    "__Ans 2:__  {'foo': 42}"
   ]
  },
  {
   "cell_type": "markdown",
   "id": "cb248790",
   "metadata": {},
   "source": [
    "__Q3.__ What is the most significant distinction between a dictionary and a list?"
   ]
  },
  {
   "cell_type": "markdown",
   "id": "9044c311",
   "metadata": {},
   "source": [
    "__Ans 3:__ The items stored in a dictionary are unordered, while the items in a list are ordered."
   ]
  },
  {
   "cell_type": "markdown",
   "id": "2cc77e5c",
   "metadata": {},
   "source": [
    "__Q4.__ What happens if you try to access spam['foo'] if spam is {'bar': 100}?"
   ]
  },
  {
   "cell_type": "markdown",
   "id": "e4accc86",
   "metadata": {},
   "source": [
    "__Ans 4:__  You get a KeyError error."
   ]
  },
  {
   "cell_type": "markdown",
   "id": "9eb52d43",
   "metadata": {},
   "source": [
    "__Q5.__ If a dictionary is stored in spam, what is the difference between the expressions 'cat' in spam and 'cat' in spam.keys()?"
   ]
  },
  {
   "cell_type": "markdown",
   "id": "7ca155d3",
   "metadata": {},
   "source": [
    "__Ans 5:__ There is no difference. The in operator checks whether a value exists as a key in the dictionary"
   ]
  },
  {
   "cell_type": "markdown",
   "id": "d43cfb4a",
   "metadata": {},
   "source": [
    "__Q6.__ If a dictionary is stored in spam, what is the difference between the expressions 'cat' in spam and 'cat' in spam.values()?"
   ]
  },
  {
   "cell_type": "markdown",
   "id": "ebd047ff",
   "metadata": {},
   "source": [
    "__Ans 6 :__ 'cat' in spam checks whether there is a 'cat' key in the dictionary, while 'cat' in spam.values() checks whether there is a value 'cat' for one of the keys in spam."
   ]
  },
  {
   "cell_type": "markdown",
   "id": "79f1c69f",
   "metadata": {},
   "source": [
    "__Q7.__ What is a shortcut for the following code?\n",
    "if 'color' not in spam:\n",
    "spam['color'] = 'black'"
   ]
  },
  {
   "cell_type": "markdown",
   "id": "ef62a3a5",
   "metadata": {},
   "source": [
    "__Ans 7:__ spam.setdefault('color','black')"
   ]
  },
  {
   "cell_type": "markdown",
   "id": "4f785555",
   "metadata": {},
   "source": [
    "__Q8.__ How do you \"pretty print\" dictionary values using which module and function?"
   ]
  },
  {
   "cell_type": "markdown",
   "id": "833dd380",
   "metadata": {},
   "source": [
    "__Ans 8:__ pprint.pprint()"
   ]
  }
 ],
 "metadata": {
  "kernelspec": {
   "display_name": "Python 3 (ipykernel)",
   "language": "python",
   "name": "python3"
  },
  "language_info": {
   "codemirror_mode": {
    "name": "ipython",
    "version": 3
   },
   "file_extension": ".py",
   "mimetype": "text/x-python",
   "name": "python",
   "nbconvert_exporter": "python",
   "pygments_lexer": "ipython3",
   "version": "3.9.7"
  }
 },
 "nbformat": 4,
 "nbformat_minor": 5
}
