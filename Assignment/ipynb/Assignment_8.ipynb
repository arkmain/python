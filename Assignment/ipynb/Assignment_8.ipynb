{
 "cells": [
  {
   "cell_type": "markdown",
   "id": "f84c3944",
   "metadata": {},
   "source": [
    "__Q1.__ Is the Python Standard Library included with PyInputPlus?"
   ]
  },
  {
   "cell_type": "markdown",
   "id": "033e8977",
   "metadata": {},
   "source": [
    "__Ans 1:__ No. PyInputPlus is a third-party module and doesn’t come with the Python Standard Library."
   ]
  },
  {
   "cell_type": "markdown",
   "id": "70923377",
   "metadata": {},
   "source": [
    "__Q2.__ Why is PyInputPlus commonly imported with import pyinputplus as pypi?"
   ]
  },
  {
   "cell_type": "markdown",
   "id": "461c7337",
   "metadata": {},
   "source": [
    "__Ans 2:__ This optionally makes code shorter to type: you can type pyip.inputStr() instead of pyinputplus.inputStr().\n",
    "As it's just a name, it can be pypi or pyip or any other name."
   ]
  },
  {
   "cell_type": "markdown",
   "id": "cb248790",
   "metadata": {},
   "source": [
    "__Q3.__ How do you distinguish between inputInt() and inputFloat()?"
   ]
  },
  {
   "cell_type": "markdown",
   "id": "9044c311",
   "metadata": {},
   "source": [
    "__Ans 3:__ The inputInt() function returns an int value, while the inputFloat() function returns a float value."
   ]
  },
  {
   "cell_type": "markdown",
   "id": "2cc77e5c",
   "metadata": {},
   "source": [
    "__Q4.__ Using PyInputPlus, how do you ensure that the user enters a whole number between 0 and 99?"
   ]
  },
  {
   "cell_type": "markdown",
   "id": "e4accc86",
   "metadata": {},
   "source": [
    "__Ans 4:__  using min and max keyword arguments. pyip.inputint(min=0, max=99)."
   ]
  },
  {
   "cell_type": "markdown",
   "id": "9eb52d43",
   "metadata": {},
   "source": [
    "__Q5.__ What is transferred to the keyword arguments allowRegexes and blockRegexes?"
   ]
  },
  {
   "cell_type": "markdown",
   "id": "7ca155d3",
   "metadata": {},
   "source": [
    "__Ans 5:__ A list of regex strings that are either explicitly allowed or denied"
   ]
  },
  {
   "cell_type": "markdown",
   "id": "d43cfb4a",
   "metadata": {},
   "source": [
    "__Q6.__ If a blank input is entered three times, what does inputStr(limit=3) do?"
   ]
  },
  {
   "cell_type": "markdown",
   "id": "ebd047ff",
   "metadata": {},
   "source": [
    "__Ans 6 :__ The function will raise RetryLimitException."
   ]
  },
  {
   "cell_type": "markdown",
   "id": "79f1c69f",
   "metadata": {},
   "source": [
    "__Q7.__ If blank input is entered three times, what does inputStr(limit=3, default='hello') do?"
   ]
  },
  {
   "cell_type": "markdown",
   "id": "ef62a3a5",
   "metadata": {},
   "source": [
    "__Ans 7:__ The function returns the value 'hello'."
   ]
  }
 ],
 "metadata": {
  "kernelspec": {
   "display_name": "Python 3 (ipykernel)",
   "language": "python",
   "name": "python3"
  },
  "language_info": {
   "codemirror_mode": {
    "name": "ipython",
    "version": 3
   },
   "file_extension": ".py",
   "mimetype": "text/x-python",
   "name": "python",
   "nbconvert_exporter": "python",
   "pygments_lexer": "ipython3",
   "version": "3.9.7"
  }
 },
 "nbformat": 4,
 "nbformat_minor": 5
}
