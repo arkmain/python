{
 "cells": [
  {
   "cell_type": "markdown",
   "id": "f84c3944",
   "metadata": {},
   "source": [
    "__Q1.__ What is the name of the feature responsible for generating Regex objects?"
   ]
  },
  {
   "cell_type": "markdown",
   "id": "033e8977",
   "metadata": {},
   "source": [
    "__Ans 1:__ The re.compile() function returns Regex objects."
   ]
  },
  {
   "cell_type": "markdown",
   "id": "70923377",
   "metadata": {},
   "source": [
    "__Q2.__ Why do raw strings often appear in Regex objects?"
   ]
  },
  {
   "cell_type": "markdown",
   "id": "461c7337",
   "metadata": {},
   "source": [
    "__Ans 2:__  Raw strings are used so that backslashes do not have to be escaped."
   ]
  },
  {
   "cell_type": "markdown",
   "id": "cb248790",
   "metadata": {},
   "source": [
    "__Q3.__ What is the return value of the search() method?"
   ]
  },
  {
   "cell_type": "markdown",
   "id": "9044c311",
   "metadata": {},
   "source": [
    "__Ans 3:__ The search() method returns Match objects."
   ]
  },
  {
   "cell_type": "markdown",
   "id": "2cc77e5c",
   "metadata": {},
   "source": [
    "__Q4.__ From a Match item, how do you get the actual strings that match the pattern?"
   ]
  },
  {
   "cell_type": "markdown",
   "id": "e4accc86",
   "metadata": {},
   "source": [
    "__Ans 4:__  The group() method returns strings of the matched text."
   ]
  },
  {
   "cell_type": "markdown",
   "id": "9eb52d43",
   "metadata": {},
   "source": [
    "__Q5.__ In the regex which created from the r'(\\d\\d\\d)-(\\d\\d\\d-\\d\\d\\d\\d)', what does group zero cover? Group 2? Group 1?"
   ]
  },
  {
   "cell_type": "markdown",
   "id": "7ca155d3",
   "metadata": {},
   "source": [
    "__Ans 5:__ Group 0 is the entire match, group 2 covers the second set of parentheses, and group 1 covers the first set of parentheses."
   ]
  },
  {
   "cell_type": "markdown",
   "id": "d43cfb4a",
   "metadata": {},
   "source": [
    "__Q6.__ In standard expression syntax, parentheses and intervals have distinct meanings. How can you tell a regex that you want it to fit real parentheses and periods?"
   ]
  },
  {
   "cell_type": "markdown",
   "id": "ebd047ff",
   "metadata": {},
   "source": [
    "__Ans 6 :__ Periods and parentheses can be escaped with a backslash: \\., \\(, and \\)."
   ]
  },
  {
   "cell_type": "markdown",
   "id": "79f1c69f",
   "metadata": {},
   "source": [
    "__Q7.__ The findall() method returns a string list or a list of string tuples. What causes it to return one of the two options?"
   ]
  },
  {
   "cell_type": "markdown",
   "id": "ef62a3a5",
   "metadata": {},
   "source": [
    "__Ans 7:__ If the regex has no groups, a list of strings is returned. If the regex has groups, a list of tuples of strings is returned."
   ]
  },
  {
   "cell_type": "markdown",
   "id": "4f785555",
   "metadata": {},
   "source": [
    "__Q8.__ In standard expressions, what does the | character mean?"
   ]
  },
  {
   "cell_type": "markdown",
   "id": "833dd380",
   "metadata": {},
   "source": [
    "__Ans 8:__ The | character signifies matching “either, or” between two groups."
   ]
  },
  {
   "cell_type": "markdown",
   "id": "80dc8849",
   "metadata": {},
   "source": [
    "__Q9.__ In regular expressions, what does the character stand for?"
   ]
  },
  {
   "cell_type": "markdown",
   "id": "a37cc14b",
   "metadata": {},
   "source": [
    "__Ans 9:__ sorry! confused with question."
   ]
  },
  {
   "cell_type": "markdown",
   "id": "9d4bf22d",
   "metadata": {},
   "source": [
    "__Q10.__ In regular expressions, what is the difference between the + and * characters?"
   ]
  },
  {
   "cell_type": "markdown",
   "id": "12e2f73f",
   "metadata": {},
   "source": [
    "__Ans 10:__ The + matches one or more. The * matches zero or more."
   ]
  },
  {
   "cell_type": "markdown",
   "id": "25d99995",
   "metadata": {},
   "source": [
    "__Q11.__ What is the difference between {4} and {4,5} in regular expression?"
   ]
  },
  {
   "cell_type": "markdown",
   "id": "a0c702c0",
   "metadata": {},
   "source": [
    "__Ans 11:__ The {4} matches exactly four instances of the preceding group. The {4,5} matches between four and five instances."
   ]
  },
  {
   "cell_type": "markdown",
   "id": "e76631c3",
   "metadata": {},
   "source": [
    "__Q12.__ What do you mean by the \\d, \\w, and \\s shorthand character classes signify in regular expressions?"
   ]
  },
  {
   "cell_type": "markdown",
   "id": "17414adb",
   "metadata": {},
   "source": [
    "__Ans 12:__ The \\d, \\w, and \\s shorthand character classes match a single digit, word, or space character, respectively."
   ]
  },
  {
   "cell_type": "markdown",
   "id": "8853eb35",
   "metadata": {},
   "source": [
    "__Q13.__ What do means by \\D, \\W, and \\S shorthand character classes signify in regular expressions?"
   ]
  },
  {
   "cell_type": "markdown",
   "id": "aa16b5ab",
   "metadata": {},
   "source": [
    "__Ans 13:__ The \\D, \\W, and \\S shorthand character classes match a single character that is not a digit, word, or space character, respectively."
   ]
  },
  {
   "cell_type": "markdown",
   "id": "47a5fc59",
   "metadata": {},
   "source": [
    "__Q14.__ What is the difference between .\\*? and .\\*?"
   ]
  },
  {
   "cell_type": "markdown",
   "id": "e253a4a7",
   "metadata": {},
   "source": [
    "__Ans 14:__ The .*? performs a nongreedy match, and the .* performs a greedy match."
   ]
  },
  {
   "cell_type": "markdown",
   "id": "c58be10e",
   "metadata": {},
   "source": [
    "__Q15.__ What is the syntax for matching both numbers and lowercase letters with a character class?"
   ]
  },
  {
   "cell_type": "markdown",
   "id": "8b1f6448",
   "metadata": {},
   "source": [
    "__Ans 15:__ Either [0-9a-z] or [a-z0-9]"
   ]
  },
  {
   "cell_type": "markdown",
   "id": "9f49c089",
   "metadata": {},
   "source": [
    "__Q16.__ What is the procedure for making a normal expression in regax case insensitive?"
   ]
  },
  {
   "cell_type": "markdown",
   "id": "274143be",
   "metadata": {},
   "source": [
    "__Ans 16:__ Passing re.I or re.IGNORECASE as the second argument to re.compile() will make the matching case insensitive."
   ]
  },
  {
   "cell_type": "markdown",
   "id": "d6fe03b3",
   "metadata": {},
   "source": [
    "__Q17.__ What does the . character normally match? What does it match if re.DOTALL is passed as 2nd argument in re.compile()?"
   ]
  },
  {
   "cell_type": "markdown",
   "id": "5d9400ee",
   "metadata": {},
   "source": [
    "__Ans 17:__ The . character normally matches any character except the newline character. If re.DOTALL is passed as the second argument to re.compile(), then the dot will also match newline characters."
   ]
  },
  {
   "cell_type": "markdown",
   "id": "d143e10c",
   "metadata": {},
   "source": [
    "__Q18.__ If numReg = re.compile(r'\\d+'), what will numRegex.sub('X', '11 drummers, 10 pipers, five rings, 4\n",
    "hen') return?"
   ]
  },
  {
   "cell_type": "markdown",
   "id": "f311e82b",
   "metadata": {},
   "source": [
    "__Ans 18:__ 'X drummers, X pipers, five rings, X hen'"
   ]
  },
  {
   "cell_type": "markdown",
   "id": "f5ac4361",
   "metadata": {},
   "source": [
    "__Q19.__ What does passing re.VERBOSE as the 2nd argument to re.compile() allow to do?"
   ]
  },
  {
   "cell_type": "markdown",
   "id": "5a59a6ca",
   "metadata": {},
   "source": [
    "__Ans 19:__ The re.VERBOSE argument allows you to add whitespace and comments to the string passed to re.compile()."
   ]
  },
  {
   "cell_type": "markdown",
   "id": "137004c9",
   "metadata": {},
   "source": [
    "__Q20.__ How would you write a regex that match a number with comma for every three digits? It must match the given following: <br>\n",
    "'42' <br>\n",
    "'1,234' <br>\n",
    "'6,368,745'\n",
    "\n",
    "but not the following: <br>\n",
    "'12,34,567' (which has only two digits between the commas) <br>\n",
    "'1234' (which lacks commas)"
   ]
  },
  {
   "cell_type": "markdown",
   "id": "e5436d16",
   "metadata": {},
   "source": [
    "__Ans 20:__ re.compile(r'^\\d{1,3}(,\\d{3})*$') will create this regex, but other regex strings can produce a similar regular expression."
   ]
  },
  {
   "cell_type": "markdown",
   "id": "5ce9a674",
   "metadata": {},
   "source": [
    "__Q21.__ How would you write a regex that matches the full name of someone whose last name is Watanabe? You can assume that the first name that comes before it will always be one word that begins with a capital letter. The regex must match the following: <br>\n",
    "'Haruto Watanabe' <br>\n",
    "'Alice Watanabe' <br>\n",
    "'RoboCop Watanabe' <br>\n",
    "but not the following: <br>\n",
    "'haruto Watanabe' (where the first name is not capitalized) <br>\n",
    "'Mr. Watanabe' (where the preceding word has a nonletter character) <br>\n",
    "'Watanabe' (which has no first name) <br>\n",
    "'Haruto watanabe' (where Watanabe is not capitalized)"
   ]
  },
  {
   "cell_type": "markdown",
   "id": "eaf74b04",
   "metadata": {},
   "source": [
    "__Ans 21:__ re.compile(r'[A-Z][a-z]*\\sWatanabe')"
   ]
  },
  {
   "cell_type": "markdown",
   "id": "1096e0e8",
   "metadata": {},
   "source": [
    "__Q22.__ How would you write a regex that matches a sentence where the first word is either Alice, Bob, or Carol; the second word is either eats, pets, or throws; the third word is apples, cats, or baseballs; and the sentence ends with a period? This regex should be case-insensitive. It must match the following: <br>\n",
    "'Alice eats apples.' <br>\n",
    "'Bob pets cats.' <br>\n",
    "'Carol throws baseballs.' <br>\n",
    "'Alice throws Apples.' <br>\n",
    "'BOB EATS CATS.' <br>\n",
    "but not the following: <br>\n",
    "'RoboCop eats apples.' <br>\n",
    "'ALICE THROWS FOOTBALLS.' <br>\n",
    "'Carol eats 7 cats.'"
   ]
  },
  {
   "cell_type": "markdown",
   "id": "d61369de",
   "metadata": {},
   "source": [
    "__Ans 22:__ re.compile(r'(Alice|Bob|Carol)\\s(eats|pets|throws)\\s(apples|cats|baseballs)\\.', re.IGNORECASE)"
   ]
  }
 ],
 "metadata": {
  "kernelspec": {
   "display_name": "Python 3 (ipykernel)",
   "language": "python",
   "name": "python3"
  },
  "language_info": {
   "codemirror_mode": {
    "name": "ipython",
    "version": 3
   },
   "file_extension": ".py",
   "mimetype": "text/x-python",
   "name": "python",
   "nbconvert_exporter": "python",
   "pygments_lexer": "ipython3",
   "version": "3.9.7"
  }
 },
 "nbformat": 4,
 "nbformat_minor": 5
}
