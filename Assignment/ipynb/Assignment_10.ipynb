{
 "cells": [
  {
   "cell_type": "markdown",
   "id": "f84c3944",
   "metadata": {},
   "source": [
    "__Q1.__ How do you distinguish between shutil.copy() and shutil.copytree()?"
   ]
  },
  {
   "cell_type": "markdown",
   "id": "033e8977",
   "metadata": {},
   "source": [
    "__Ans 1:__ The shutil.copy() function will copy a single file, while shutil.copytree() will copy an entire folder, along with all its contents."
   ]
  },
  {
   "cell_type": "markdown",
   "id": "70923377",
   "metadata": {},
   "source": [
    "__Q2.__ What function is used to rename files??"
   ]
  },
  {
   "cell_type": "markdown",
   "id": "461c7337",
   "metadata": {},
   "source": [
    "__Ans 2:__  The shutil.move() function is used for renaming files as well as moving them."
   ]
  },
  {
   "cell_type": "markdown",
   "id": "cb248790",
   "metadata": {},
   "source": [
    "__Q3.__ What is the difference between the delete functions in the send2trash and shutil modules?"
   ]
  },
  {
   "cell_type": "markdown",
   "id": "9044c311",
   "metadata": {},
   "source": [
    "__Ans 3:__ The send2trash functions will move a file or folder to the recycle bin, while shutil functions will permanently delete files and folders."
   ]
  },
  {
   "cell_type": "markdown",
   "id": "2cc77e5c",
   "metadata": {},
   "source": [
    "__Q4.__ ZipFile objects have a close() method just like File objects’ close() method. What ZipFile method is\n",
    "equivalent to File objects’ open() method?"
   ]
  },
  {
   "cell_type": "markdown",
   "id": "e4accc86",
   "metadata": {},
   "source": [
    "__Ans 4:__  The zipfile.ZipFile() function is equivalent to the open() function; the first argument is the filename, and the second argument is the mode to open the ZIP file in (read, write, or append)."
   ]
  },
  {
   "cell_type": "markdown",
   "id": "9eb52d43",
   "metadata": {},
   "source": [
    "__Q5.__ Create a programme that searches a folder tree for files with a certain file extension (such as .pdf\n",
    "or .jpg). Copy these files from whatever location they are in to a new folder."
   ]
  },
  {
   "cell_type": "markdown",
   "id": "7ca155d3",
   "metadata": {},
   "source": [
    "__Ans 5:__ "
   ]
  },
  {
   "cell_type": "code",
   "execution_count": 6,
   "id": "f334e1c7",
   "metadata": {},
   "outputs": [],
   "source": [
    "#! python3\n",
    "# copyCertainFiles.py - Search for files with certain file extension (such as .pdf or .jpg)\n",
    "# and copy to New folder\n",
    "\n",
    "import shutil, os\n",
    "\n",
    "\n",
    "def copyCertainFiles(sFolder,extensions,dFolder):\n",
    "    sFolder = os.path.abspath(sFolder)\n",
    "    dFolder = os.path.abspath(dFolder)\n",
    "    print('Looking in', folder, 'for files with extensions of', ', '.join(extensions))\n",
    "    for foldername, subfolders, filenames in os.walk(sFolder):\n",
    "        for filename in filenames:\n",
    "            name, extension = os.path.splitext(filename)\n",
    "            if extension in extensions:\n",
    "                fileAbsPath = os.path.join(foldername , filename)\n",
    "                print('Copying', fileAbsPath, 'to', dFolder)\n",
    "                shutil.copy(fileAbsPath, dFolder)\n",
    "\n",
    "extensions = ['.pdf', '.jpg']\n",
    "folder = 'Random Folder'\n",
    "newFolder = 'New Folder'\n",
    "    \n"
   ]
  }
 ],
 "metadata": {
  "kernelspec": {
   "display_name": "Python 3 (ipykernel)",
   "language": "python",
   "name": "python3"
  },
  "language_info": {
   "codemirror_mode": {
    "name": "ipython",
    "version": 3
   },
   "file_extension": ".py",
   "mimetype": "text/x-python",
   "name": "python",
   "nbconvert_exporter": "python",
   "pygments_lexer": "ipython3",
   "version": "3.9.7"
  }
 },
 "nbformat": 4,
 "nbformat_minor": 5
}
